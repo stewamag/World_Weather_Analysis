{
 "cells": [
  {
   "cell_type": "code",
   "execution_count": 1,
   "id": "0f79eb1a",
   "metadata": {},
   "outputs": [],
   "source": [
    "# Import the random module.\n",
    "import random"
   ]
  },
  {
   "cell_type": "code",
   "execution_count": 2,
   "id": "77095302",
   "metadata": {},
   "outputs": [
    {
     "data": {
      "text/plain": [
       "-8"
      ]
     },
     "execution_count": 2,
     "metadata": {},
     "output_type": "execute_result"
    }
   ],
   "source": [
    "random.randint(-90, 90)"
   ]
  },
  {
   "cell_type": "code",
   "execution_count": 3,
   "id": "0daeb2c8",
   "metadata": {},
   "outputs": [
    {
     "data": {
      "text/plain": [
       "0.7777467848115508"
      ]
     },
     "execution_count": 3,
     "metadata": {},
     "output_type": "execute_result"
    }
   ],
   "source": [
    "random.random()"
   ]
  },
  {
   "cell_type": "code",
   "execution_count": 6,
   "id": "551e1d5a",
   "metadata": {},
   "outputs": [
    {
     "data": {
      "text/plain": [
       "15.377462864681625"
      ]
     },
     "execution_count": 6,
     "metadata": {},
     "output_type": "execute_result"
    }
   ],
   "source": [
    "random_number = random.randint(-90, 89) + random.random()\n",
    "random_number"
   ]
  },
  {
   "cell_type": "code",
   "execution_count": 9,
   "id": "bf48ffd5",
   "metadata": {},
   "outputs": [],
   "source": [
    "x = 1\n",
    "latitudes = []\n",
    "while x < 11:\n",
    "    random_lat = random.randint(-90, 89) + random.random()\n",
    "    latitudes.append(random_lat)\n",
    "    x += 1"
   ]
  },
  {
   "cell_type": "code",
   "execution_count": 10,
   "id": "88322f03",
   "metadata": {},
   "outputs": [
    {
     "data": {
      "text/plain": [
       "-55"
      ]
     },
     "execution_count": 10,
     "metadata": {},
     "output_type": "execute_result"
    }
   ],
   "source": [
    "random.randrange(-90, 90, step=1)"
   ]
  },
  {
   "cell_type": "code",
   "execution_count": 11,
   "id": "116489b3",
   "metadata": {},
   "outputs": [
    {
     "data": {
      "text/plain": [
       "27"
      ]
     },
     "execution_count": 11,
     "metadata": {},
     "output_type": "execute_result"
    }
   ],
   "source": [
    "random.randrange(-90, 90, step=3)"
   ]
  },
  {
   "cell_type": "code",
   "execution_count": 12,
   "id": "efad9c09",
   "metadata": {},
   "outputs": [],
   "source": [
    "# Import the numpy module\n",
    "import numpy as np"
   ]
  },
  {
   "cell_type": "code",
   "execution_count": 13,
   "id": "66ce1c4d",
   "metadata": {},
   "outputs": [
    {
     "data": {
      "text/plain": [
       "-82.4897352472747"
      ]
     },
     "execution_count": 13,
     "metadata": {},
     "output_type": "execute_result"
    }
   ],
   "source": [
    "np.random.uniform(-90, 90)"
   ]
  },
  {
   "cell_type": "code",
   "execution_count": 14,
   "id": "3197a903",
   "metadata": {},
   "outputs": [
    {
     "data": {
      "text/plain": [
       "array([ 24.98736464, -10.62622285,  87.88740509, -34.66815029,\n",
       "        77.11964891, -13.52830865,   0.36966598, -71.29049737,\n",
       "       -84.61245571, -43.94487653, -37.2203506 ,  85.71195732,\n",
       "       -70.48773569,  47.19192039,  51.6554533 , -19.73185378,\n",
       "        54.2750215 ,  86.48860272,  40.92548481,   9.64642269,\n",
       "       -81.0359162 ,  27.06189619,  24.61156017,  85.55398817,\n",
       "       -39.37072395,  77.16192138,  63.11125933, -81.6446325 ,\n",
       "       -35.40938845, -38.91898507, -88.23528599,  71.19193237,\n",
       "       -56.7168188 ,  72.79422958, -38.32116574,   2.11561356,\n",
       "        12.06571564,  52.27043729,   9.21773215, -47.32434279,\n",
       "       -34.23184384,  48.16283032, -40.34882228, -10.92256705,\n",
       "        -4.38311978, -52.57118607,  10.19901339,  49.92502862,\n",
       "       -25.66742898, -61.47845797])"
      ]
     },
     "execution_count": 14,
     "metadata": {},
     "output_type": "execute_result"
    }
   ],
   "source": [
    "np.random.uniform(-90, 90, size=50)"
   ]
  },
  {
   "cell_type": "code",
   "execution_count": 15,
   "id": "31afcc81",
   "metadata": {},
   "outputs": [],
   "source": [
    "# Import timeit module\n",
    "import timeit"
   ]
  },
  {
   "cell_type": "code",
   "execution_count": 16,
   "id": "b6af5ccb",
   "metadata": {},
   "outputs": [
    {
     "name": "stdout",
     "output_type": "stream",
     "text": [
      "2.52 µs ± 134 ns per loop (mean ± std. dev. of 7 runs, 100,000 loops each)\n"
     ]
    }
   ],
   "source": [
    "%timeit np.random.uniform(-90, 90)"
   ]
  },
  {
   "cell_type": "code",
   "execution_count": 17,
   "id": "fceaab17",
   "metadata": {},
   "outputs": [
    {
     "name": "stdout",
     "output_type": "stream",
     "text": [
      "1.45 ms ± 36 µs per loop (mean ± std. dev. of 7 runs, 1,000 loops each)\n"
     ]
    }
   ],
   "source": [
    "def latitudes(size):\n",
    "    latitudes = []\n",
    "    x = 0\n",
    "    while x < (size):\n",
    "        random_lat = random.randint(-90, 90) + random.random()\n",
    "        latitudes.append(random_lat)\n",
    "        x += 1\n",
    "    return latitudes\n",
    "# Call the function with 1500.\n",
    "%timeit latitudes(1500)"
   ]
  },
  {
   "cell_type": "code",
   "execution_count": 18,
   "id": "8fff5ab0",
   "metadata": {},
   "outputs": [
    {
     "name": "stdout",
     "output_type": "stream",
     "text": [
      "14.1 µs ± 311 ns per loop (mean ± std. dev. of 7 runs, 100,000 loops each)\n"
     ]
    }
   ],
   "source": [
    "%timeit np.random.uniform(-90, 90, size=1500)"
   ]
  },
  {
   "cell_type": "code",
   "execution_count": null,
   "id": "63185476",
   "metadata": {},
   "outputs": [],
   "source": []
  }
 ],
 "metadata": {
  "kernelspec": {
   "display_name": "Python 3 (ipykernel)",
   "language": "python",
   "name": "python3"
  },
  "language_info": {
   "codemirror_mode": {
    "name": "ipython",
    "version": 3
   },
   "file_extension": ".py",
   "mimetype": "text/x-python",
   "name": "python",
   "nbconvert_exporter": "python",
   "pygments_lexer": "ipython3",
   "version": "3.9.12"
  }
 },
 "nbformat": 4,
 "nbformat_minor": 5
}
